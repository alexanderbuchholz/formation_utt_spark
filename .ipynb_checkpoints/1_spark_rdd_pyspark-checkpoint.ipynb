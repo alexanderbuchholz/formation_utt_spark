{
 "cells": [
  {
   "cell_type": "markdown",
   "metadata": {},
   "source": [
    "##  We are getting started with Appache Spark! \n",
    "\n",
    "For the very basics, look at the following site: :\n",
    "* https://spark.apache.org/docs/0.9.0/python-programming-guide.html"
   ]
  },
  {
   "cell_type": "markdown",
   "metadata": {},
   "source": [
    "\n",
    "Credit for this notebook: https://www.analyticsvidhya.com/blog/2016/09/comprehensive-introduction-to-apache-spark-rdds-dataframes-using-pyspark/\n",
    "and \n",
    "https://www.analyticsvidhya.com/blog/2016/10/using-pyspark-to-perform-transformations-and-actions-on-rdd/\n",
    "\n",
    "Other helpful ressources: \n",
    "* https://spark.apache.org/\n",
    "* Book: Learning Spark (O'Reilly), for a lot of details:\n",
    "https://www.oreilly.com/library/view/learning-spark/9781449359034/\n",
    "(pdf online)\n",
    "* https://www.tutorialspoint.com/pyspark/index.htm\n",
    "\n",
    "First we create a context, this means we are telling python to start a connection to spark, using the pyspark API.\n",
    "\n",
    "# Apache Spark data representations: RDD / Dataframe / Dataset\n",
    "\n",
    "Spark has three data representations: RDD, Dataframe, Dataset. For each data representation, Spark has a different API. For example, later we are going to use ml (a library), which currently supports only Dataframe API. Dataframe is much faster than RDD because it has metadata (some information about data) associated with it, which allows Spark to optimize the query plan. The Dataframe feature in Apache Spark was added in Spark 1.3. \n",
    "\n",
    "In this notebook, we will spend some time on RDD, to get you started with Apache Spark. Later, we will spend some time on Dataframes. Dataframes share some common characteristics with RDD (transformations and actions). We arenot going to talk about Dataset as this functionality is not included in PySpark.\n",
    "\n",
    "### RDD:\n",
    "After installing and configuring PySpark, we can start programming using Spark in Python. But to use Spark functionality, we must use RDDs. A RDD (Resilient Distributed Database) is a collection of elements, that can be divided across multiple nodes in a cluster to run parallel processing. It is also fault tolerant collection of elements, which means it can automatically recover from failures. RDD is immutable, we can create a RDD once but can’t change it. We can apply any number of operation on it and can create another RDD by applying some transformations. Here are a few things to keep in mind about RDD:\n",
    "\n",
    "We can apply 2 types of operations on RDDs:\n",
    "\n",
    "* Transformation: Transformation refers to the operation applied on a RDD to create a new RDD.\n",
    "* Action: Actions refer to an operation which also apply on RDD that perform computation and send the result back to driver.\n",
    "\n",
    "Example: Map (Transformation) performs operation on each element of RDD and returns a new RDD. But, in case of Reduce (Action), it reduces / aggregates the output of a map by applying some functions (Reduce by key). There are many transformations and actions that are defined in Apache Spark documentation.\n",
    "\n",
    "RDDs use Shared Variables:\n",
    "The parallel operations in Apache Spark use shared variable. It means that whenever a task is sent by a driver to executors program in a cluster, a copy of shared variable is sent to each node in a cluster, so that they can use this variable while performing tasks. Accumulator and Broadcast are the two types of shared variables supported by Apache Spark.\n",
    "Broadcast: We can use the Broadcast variable to save the copy of data across all node.\n",
    "Accumulator: In Accumulator variables are used for aggregating the information.\n",
    "\n",
    " \n",
    "\n",
    "How to Create a RDD in Apache Spark\n",
    "\n",
    "Existing storage: When we want to create a RDD though existing storage in driver program (which we would like to be parallelized). For example, converting a list to RDD, which is already created in a driver program.\n",
    "\n",
    "External sources: When we want to create a RDD though external sources such as a shared file system, HDFS, HBase, or any data source offering a Hadoop Input Format.\n",
    "\n",
    " \n",
    "\n",
    "Writing a first program in Apache Spark\n",
    "\n",
    "We have already discussed that RDD supports two type of operations, which are transformation and action. Let us get down to writing our first program:\n",
    "\n",
    "## Step 1: Create SparkContext\n",
    "\n",
    "First step in any Apache programming is to create a SparkContext. SparkContext is needed when we want to execute operations in a cluster. SparkContext tells Spark how and where to access a cluster. It is first step to connect with Apache Cluster. If you are using Spark Shell, we will find that this is already created. Otherwise, we can create the Spark Context by importing, initializing and providing the configuration settings. For example:"
   ]
  },
  {
   "cell_type": "code",
   "execution_count": null,
   "metadata": {
    "collapsed": false
   },
   "outputs": [],
   "source": [
    "from pyspark import SparkContext\n",
    "sc = SparkContext()"
   ]
  },
  {
   "cell_type": "markdown",
   "metadata": {},
   "source": [
    "## Step 2: Create a RDD\n",
    "\n",
    "We can create RDD in two ways: Either from an existing storage or from an external storage. Let’s create our first RDD. SparkContext has the parallelize method, which is used for creating the Spark RDD from an iterable (like list, tuple..) already present in driver program.\n",
    "\n",
    "We can also provide the number of partitions as a parameter to parallelize method. If we do not give number of partition parameter, then Spark will automatically set the number of partition in a cluster. The number of partition can be set manually by passing a second parameter to the parallelize method. For example, sc.parallelize(data, 10)), where data is an existing data in driver program and 10 is the number of partitions.\n",
    "Lets create the first Spark RDD called rdd."
   ]
  },
  {
   "cell_type": "code",
   "execution_count": null,
   "metadata": {
    "collapsed": true
   },
   "outputs": [],
   "source": [
    "data = range(1,1000) # a python object\n",
    "rdd = sc.parallelize(data)"
   ]
  },
  {
   "cell_type": "code",
   "execution_count": null,
   "metadata": {
    "collapsed": false
   },
   "outputs": [],
   "source": [
    "rdd.collect() # returns the data\n",
    "# also :rdd.take(10) what does this command do?"
   ]
  },
  {
   "cell_type": "code",
   "execution_count": null,
   "metadata": {
    "collapsed": false
   },
   "outputs": [],
   "source": [
    "rdd.take(2) # It will print first 2 elements of rdd"
   ]
  },
  {
   "cell_type": "code",
   "execution_count": null,
   "metadata": {
    "collapsed": false
   },
   "outputs": [],
   "source": [
    "# what is the return type of the above?"
   ]
  },
  {
   "cell_type": "markdown",
   "metadata": {},
   "source": [
    "We have 2 parallel operations in RDD which are Transformation and Action. Transformation and Action were already discussed briefly earlier. So let’s see how transformation works. Remember that RDDs are immutable – so we can’t change our RDD, but we can apply transformation on it. Let’s see an example of map transformation to demonstrate how transformation works.\n",
    "\n",
    "## Step 3: Map transformation.\n",
    "\n",
    "Map transformation returns a Mapped RDD by applying function to each element of the base RDD. Let’s repeat the first step of creating a RDD from existing source, For example,"
   ]
  },
  {
   "cell_type": "code",
   "execution_count": null,
   "metadata": {
    "collapsed": true
   },
   "outputs": [],
   "source": [
    "data = ['Hello' , 'I' , 'am', 'a', 'big', 'data', 'engineer!']\n",
    "Rdd = sc.parallelize(data)"
   ]
  },
  {
   "cell_type": "markdown",
   "metadata": {},
   "source": [
    "Now a RDD (name is ‘Rdd’) is created from the existing source, which is a list of strings in a driver program. We will now apply a lambda function to each element of Rdd and return the mapped (transformed) RDD (word,1) pair in the Rdd1."
   ]
  },
  {
   "cell_type": "code",
   "execution_count": null,
   "metadata": {
    "collapsed": false
   },
   "outputs": [],
   "source": [
    "Rdd1 = Rdd.map(lambda x: (x,1))"
   ]
  },
  {
   "cell_type": "markdown",
   "metadata": {},
   "source": [
    "Lazy evaluation, the previous statement is only evaluated when we perform the action:"
   ]
  },
  {
   "cell_type": "code",
   "execution_count": null,
   "metadata": {
    "collapsed": false
   },
   "outputs": [],
   "source": [
    "Rdd1.collect()"
   ]
  },
  {
   "cell_type": "markdown",
   "metadata": {},
   "source": [
    "Nothing happened after applying the lambda function on Rdd1 (we won’t see any computation happening in a cluster). This is called the lazy operation. All transformation operations in Spark are lazy, which means that we will not see any computations on RDD, until we need them for further action.\n",
    "\n",
    "Spark remembers which transformation is applied to which RDD with the help of DAG (Directed a Cyclic Graph). The lazy evaluation helps Spark to optimize the solution because Spark will get time to see the DAG before actually executing the operations on RDD. This enables Spark to run operations more efficiently.\n",
    "\n",
    "In the code above, collect() and take() are the examples of an action.\n",
    "\n",
    "There are many number of transformation defined in Apache Spark. "
   ]
  },
  {
   "cell_type": "markdown",
   "metadata": {},
   "source": [
    "\n",
    "* We can create a RDD in two different ways, from existing source and external source.\n",
    "* We can apply two types of operations on RDD, namely “transformation” and “action”. All transformations on RDD are lazy in nature, which means that computations on RDD are not done until we apply an action.\n",
    "* RDDs are immutable in nature i.e. we cannot change the RDD, we need to transform it by applying transformation(s). There are various transformations and actions, which can be applied on RDD.\n"
   ]
  },
  {
   "cell_type": "markdown",
   "metadata": {},
   "source": [
    "What is Transformation and Action?\n",
    "\n",
    "Spark has certain operations which can be performed on RDD. An operation is a method, which can be applied on a RDD to accomplish certain tasks. RDD supports two types of operations, which are Action and Transformation. An operation can be something as simple as sorting, filtering and summarizing data.\n",
    "\n",
    "Let’s take few examples to understand the concept of transformation and action better. Let’s assume, we want to develop a machine learning model on a data set. Before applying a machine learning model, we will need to perform certain tasks:\n",
    "\n",
    "* Understand the data ( List out the number of columns in data and their type)\n",
    "* Preprocess the data (Remove null value observations on data).\n",
    "* Filter the data (Let’s say, we want to filter the observations corresponding to males data)\n",
    "* Fill the null values in data ( Filling the null values in data by constant, mean, median, etc)\n",
    "* Calculate the features in data\n",
    "\n",
    "All the above mentioned tasks are examples of an operation. In Spark, operations are divided into 2 parts – one is transformation and second is action. Find below a brief descriptions of these operations.\n",
    "\n",
    "Transformation: Transformation refers to the operation applied on a RDD to create new RDD. Filter, groupBy and map are the examples of transformations.\n",
    "\n",
    "Actions: Actions refer to an operation which also applies on RDD, that instructs Spark to perform computation and send the result back to driver. This is an example of action.\n",
    "\n",
    "The Transformations and Actions in Apache Spark are divided into 4 major categories:\n",
    "\n",
    "* General\n",
    "* Mathematical and Statistical\n",
    "* Set Theory and Relational\n",
    "* Data-structure and IO\n",
    "\n",
    " \n",
    "Applying Transformation and Action\n",
    "\n",
    "To understand the operations, we are going to use the readme textfiel.  I have already copied and pasted all text. Before applying operations on the readme, we need to first load this file with the help of SparkContext."
   ]
  },
  {
   "cell_type": "code",
   "execution_count": null,
   "metadata": {
    "collapsed": false
   },
   "outputs": [],
   "source": [
    "rdd = sc.textFile(\"README.md\")"
   ]
  },
  {
   "cell_type": "code",
   "execution_count": null,
   "metadata": {
    "collapsed": false
   },
   "outputs": [],
   "source": [
    "rdd.take(5)"
   ]
  },
  {
   "cell_type": "markdown",
   "metadata": {},
   "source": [
    "## Transformation: map and flatMap\n",
    "\n",
    "Q1: Convert all words in a rdd to lowercase and split the lines of a document using space.\n",
    "\n",
    "To lower the case of each word of a document, we can use the map transformation. A map transformation is useful when we need to transform a RDD by applying a function to each element. So how can we use map transformation on ‘rdd’ in our case?\n",
    "\n",
    "Solution: Let’s see through the example, Apply a function called “Func” on each words of a document. “Func” will do two things:\n",
    "\n",
    "1. It will take a corpus, lower the each words in this corpus.\n",
    "2. After that it splits the words in each line by space.\n",
    "\n",
    "To do this first we need to write “Func” and then apply this function using map."
   ]
  },
  {
   "cell_type": "code",
   "execution_count": null,
   "metadata": {
    "collapsed": true
   },
   "outputs": [],
   "source": [
    "def Func(lines):\n",
    "    lines = lines.lower()\n",
    "    lines = lines.split()\n",
    "    return lines\n",
    "rdd1 = rdd.map(Func)"
   ]
  },
  {
   "cell_type": "markdown",
   "metadata": {},
   "source": [
    "After applying the function (Func) on “rdd”, we have transformed this “rdd” into “rdd1”, we can see the first 5 elements of “rdd1” by applying take operation (which is an action)."
   ]
  },
  {
   "cell_type": "code",
   "execution_count": null,
   "metadata": {
    "collapsed": false
   },
   "outputs": [],
   "source": [
    " rdd1.take(5) # we create a list of lists"
   ]
  },
  {
   "cell_type": "markdown",
   "metadata": {},
   "source": [
    "We can also see that our output is not flat (it’s a nested list). So for getting the flat output, we need to apply a transformation which will flatten the output, The transformation “flatMap” will help here:\n",
    "\n",
    "The “flatMap” transformation will return a new RDD by first applying a function to all elements of this RDD, and then flattening the results. This is the main difference between the “flatMap” and map transformations. Let’s apply a “flatMap” transformation on “rdd” , then take the result of this transformation in “rdd2” and print the result after applying this transformation."
   ]
  },
  {
   "cell_type": "code",
   "execution_count": null,
   "metadata": {
    "collapsed": false
   },
   "outputs": [],
   "source": [
    "rdd2 = rdd.flatMap(Func)\n",
    "rdd2.take(10)"
   ]
  },
  {
   "cell_type": "markdown",
   "metadata": {},
   "source": [
    "# Transformation: filter\n",
    "\n",
    "Q2: Next, I want to remove the words, which are not necessary to analyze this text. We call these words as “stop words”; Stop words do not add much value in a text. For example, “is”, “am”, “are” and “the” are few examples of stop words.\n",
    "\n",
    "Solution: To remove the stop words, we can use a “filter” transformation which will return a new RDD containing only the elements that satisfy given condition(s). Lets apply “filter” transformation on “rdd2” and get words which are not stop words and get the result in “rdd3”. To do that:\n",
    "\n",
    "1. We need to define the list of stop words in a variable called “stopwords” ( Here, I am selecting only a few words in stop words list instead of all the words).\n",
    "2. Apply “filter” on “rdd2” (Check if individual words of “rdd2” are in the “stopwords” list or not ).\n",
    "\n",
    "We can check first 10 elements of “rdd3” by applying take action."
   ]
  },
  {
   "cell_type": "code",
   "execution_count": null,
   "metadata": {
    "collapsed": false
   },
   "outputs": [],
   "source": [
    "stopwords = ['is','am','are','the','for','a', 'and', 'to']\n",
    "rdd3 = rdd2.filter(lambda x: x not in stopwords)\n",
    "rdd3.take(10)"
   ]
  },
  {
   "cell_type": "markdown",
   "metadata": {},
   "source": [
    "## Transformation: groupBy\n",
    "\n",
    "Q3: After getting the results into rdd3, we want to group the words in rdd3 based on which letters they start with. For example, suppose I want to group each word of rdd3 based on first 3 characters.\n",
    "\n",
    "Solution: The “groupBy”  transformation will group the data in the original RDD. It creates a set of key value pairs, where the key is output of a user function, and the value is all items for which the function yields this key.\n",
    "\n",
    "1. We have to pass a function (in this case, I am using a lambda function) inside the “groupBy” which will take the first 3 characters of each word in “rdd3”.\n",
    "2. The key is the first 3 characters and value is all the words which start with these 3 characters.\n",
    "\n",
    "After applying “groupBy” function, we store the transformed result in “rdd4” (RDDs are immutable – remember!). To view “rdd4”, we can print first (key, value) elements in “rdd4”."
   ]
  },
  {
   "cell_type": "code",
   "execution_count": null,
   "metadata": {
    "collapsed": false
   },
   "outputs": [],
   "source": [
    "rdd4 = rdd3.groupBy(lambda w: w[0:3])\n",
    "print [(k, list(v)) for (k, v) in rdd4.take(5)]"
   ]
  },
  {
   "cell_type": "markdown",
   "metadata": {},
   "source": [
    "# Transformation: groupByKey / reduceByKey \n",
    "\n",
    "Q4: What if we want to calculate how many times each word is coming in corpus ?\n",
    "\n",
    "Solution: We can apply the “groupByKey” / “reduceByKey” transformations on (key,val) pair RDD. The “groupByKey” will group the values for each key in the original RDD. It will create a new pair, where the original key corresponds to this collected group of values.\n",
    "\n",
    "To use “groupbyKey” / “reduceByKey” transformation to find the frequencies of each words, you can follow the steps below:\n",
    "\n",
    "1. A (key,val) pair RDD is required; In this (key,val) pair RDD, key is the word and val is 1 for each word in RDD (1 represents the number for the each word in “rdd3”).\n",
    "2. To apply “groupbyKey” / “reduceByKey” on “rdd3”, we need to first convert “rdd3” to (key,val) pair RDD.\n",
    "\n",
    " \n",
    "\n",
    "Let’s see, how to convert “rdd3” to new mapped (key,val) RDD. And then we can apply “groupbyKey” / “reduceByKey” transformation on this RDD."
   ]
  },
  {
   "cell_type": "code",
   "execution_count": null,
   "metadata": {
    "collapsed": true
   },
   "outputs": [],
   "source": [
    "rdd3_mapped = rdd3.map(lambda x: (x,1))\n",
    "rdd3_grouped = rdd3_mapped.groupByKey()"
   ]
  },
  {
   "cell_type": "markdown",
   "metadata": {},
   "source": [
    "In the above code we are first converting “rdd3” into “rdd3_mapped”.  The “rdd3_mapped” is nothing but a mapped (key,val) pair RDD. Then I am applying “groupByKey” transformation on “rdd3_mapped” to group the all elements based on the keys (words). Next, I am saving the result into “rdd3_grouped”. Let’s see the first 5 elements in “rdd3_grouped”."
   ]
  },
  {
   "cell_type": "code",
   "execution_count": null,
   "metadata": {
    "collapsed": false
   },
   "outputs": [],
   "source": [
    "print(list((j[0], list(j[1])) for j in rdd3_grouped.take(5)))"
   ]
  },
  {
   "cell_type": "markdown",
   "metadata": {},
   "source": [
    "After seeing the result of the above code, I rechecked the corpus to know, how many times the word ‘spark’ is there, so I found that ‘spark’ is written more then once. Let’s filter ‘spark,’ in “rdd3”."
   ]
  },
  {
   "cell_type": "code",
   "execution_count": null,
   "metadata": {
    "collapsed": false
   },
   "outputs": [],
   "source": [
    "rdd3.filter(lambda x: x == 'spark').collect()"
   ]
  },
  {
   "cell_type": "markdown",
   "metadata": {},
   "source": [
    "Until now we have not calculated the frequencies / counts of each words. Let’s proceed further :"
   ]
  },
  {
   "cell_type": "code",
   "execution_count": null,
   "metadata": {
    "collapsed": true
   },
   "outputs": [],
   "source": [
    "rdd3_freq_of_words = rdd3_grouped.mapValues(sum).map(lambda x: (x[1],x[0])).sortByKey(False)"
   ]
  },
  {
   "cell_type": "markdown",
   "metadata": {},
   "source": [
    "In the above code, I first applied “mapValues” transformation on “rdd3_grouped”. The “mapValues” (only applicable on pair RDD) transformation is like a map (can be applied on any RDD) transform but it has one difference that when we apply map transform on pair RDD we can access the key and value both of this RDD but in case of “mapValues” transformation, it will transform the values by applying some function and key will not be affected. So for example, in above code I applied sum, which will calculate the sum (counts) for the each word.\n",
    "\n",
    "After applying “mapValues”  transformation I want to sort the words based on their frequencies so for doing that I am first converting a ( word, frequency ) pair to ( frequency,word ) so that our key and values will be interchanged then, I will apply a sorting based on key and then get a result in “rdd3_freq_of_words”. We can see that 10 most frequent words."
   ]
  },
  {
   "cell_type": "code",
   "execution_count": null,
   "metadata": {
    "collapsed": false
   },
   "outputs": [],
   "source": [
    "rdd3_freq_of_words.take(10)"
   ]
  },
  {
   "cell_type": "markdown",
   "metadata": {},
   "source": [
    "We can also use “reduceByKey” transformation for counting the frequencies of each word in (key,value) pair RDD. Lets see how will we do this."
   ]
  },
  {
   "cell_type": "code",
   "execution_count": null,
   "metadata": {
    "collapsed": false
   },
   "outputs": [],
   "source": [
    "rdd3_mapped.reduceByKey(lambda x,y: x+y).map(lambda x:(x[1],x[0])).sortByKey(False).take(10)"
   ]
  },
  {
   "cell_type": "markdown",
   "metadata": {},
   "source": [
    "If we compare the result of both ( “groupByKey” and “reduceByKey”) transformations, we have got the same results. I am sure you must be wondering what is the difference in both transformations. The “reduceByKey” transformations first combined the values for each key in all partition, so each partition will have only one value for a key then after shuffling, in reduce phase executors will apply operation for example, in my case sum(lambda x: x+y)."
   ]
  },
  {
   "cell_type": "markdown",
   "metadata": {
    "collapsed": true
   },
   "source": [
    "<img src=\"images/reduceByKey-3.png\">"
   ]
  },
  {
   "cell_type": "markdown",
   "metadata": {},
   "source": [
    "But in case of “groupByKey” transformation, it will not combine the values in each key in all partition it directly shuffle the data then merge the values for each key. Here in “groupByKey” transformation lot of shuffling in the data is required to get the answer, so it is better to use “reduceByKey” in case of large shuffling of data."
   ]
  },
  {
   "cell_type": "markdown",
   "metadata": {
    "collapsed": true
   },
   "source": [
    "<img src=\"images/groupbykey.png\">"
   ]
  },
  {
   "cell_type": "markdown",
   "metadata": {},
   "source": [
    "## Transformation: mapPartitions\n",
    "\n",
    "Q5: How do I perform a task (say count the words ‘spark’ and ‘apache’ in rdd3) separatly on each partition and get the output of the task performed in these partition ?\n",
    "Soltion: We can do this by applying “mapPartitions” transformation. The “mapPartitions” is like a map transformation but runs separately on different partitions of a RDD. So, for counting the frequencies of words ‘spark’ and ‘apache’ in each partition of RDD, you can follow the steps:\n",
    "\n",
    "1. Create a function called “func” which will count the frequencies for these words\n",
    "2. Then, pass the function defined in step1 to the “mapPartitions” transformation.\n"
   ]
  },
  {
   "cell_type": "code",
   "execution_count": null,
   "metadata": {
    "collapsed": false
   },
   "outputs": [],
   "source": [
    "def func(iterator):\n",
    "    count_spark = 0\n",
    "    count_apache = 0\n",
    "    for i in iterator:\n",
    "        if i =='spark':\n",
    "            count_spark = count_spark + 1\n",
    "        if i == 'apache':\n",
    "            count_apache = count_apache + 1\n",
    "    return (count_spark,count_apache)\n",
    "rdd3.mapPartitions(func).glom().collect()"
   ]
  },
  {
   "cell_type": "markdown",
   "metadata": {},
   "source": [
    "I have used the “glom” function which is very useful when we want to see the data insights for each partition of a RDD. So above result shows that 12, 1 are the counts of ‘spark’, ‘apache’ in partition1 and 4, 0 are the counts of ‘spark’, ‘apache’ in partition2. If we won’t use the “glom” function we won’t we able to see the results of each partition."
   ]
  },
  {
   "cell_type": "code",
   "execution_count": null,
   "metadata": {
    "collapsed": false
   },
   "outputs": [],
   "source": [
    "rdd3.mapPartitions(func).collect()"
   ]
  },
  {
   "cell_type": "markdown",
   "metadata": {},
   "source": [
    "## Math / Statistical Transformation, \n",
    "\n",
    "Transformation: sample\n",
    "\n",
    "Q6: What if I want to work with samples instead of full data ?\n",
    "Soltion: “sample” transformation helps us in taking samples instead of working on full data. The sample method will return a new RDD, containing a statistical sample of the original RDD.\n",
    "We can pass the arguments insights as the sample operation:\n",
    "\n",
    "    “withReplacement = True” or False (to choose the sample with or without replacement)\n",
    "    “fraction = x” ( x= .4 means we want to choose 40% of data in “rdd” ) and “seed” for reproduce the results.\n"
   ]
  },
  {
   "cell_type": "code",
   "execution_count": null,
   "metadata": {
    "collapsed": false
   },
   "outputs": [],
   "source": [
    "rdd3_sampled = rdd3.sample(False, 0.4, 42)\n",
    "print len(rdd3.collect()),len(rdd3_sampled.collect())"
   ]
  },
  {
   "cell_type": "markdown",
   "metadata": {},
   "source": [
    "## Set Theory / Relational Transformation\n",
    "Transformation: union\n",
    "\n",
    "Q 7: What if I want to create a RDD which contains all the elements (a.k.a. union) of two RDDs ?\n",
    "Solution: To do so, we can use “union” transformation on two RDDs. In Spark “union” transformation will return a new RDD by taking the union of two RDDs. Please note that duplicate items will not be removed in the new RDD. To illustrate this:\n",
    "\n",
    "I am first going to create a two sample RDD ( say sample1, sample2 ) from the “rdd3” by taking 20% sample for each.\n",
    "Apply a union transformation on sample1, sample2.\n",
    "\n"
   ]
  },
  {
   "cell_type": "code",
   "execution_count": null,
   "metadata": {
    "collapsed": false
   },
   "outputs": [],
   "source": [
    "sample1 = rdd3.sample(False,0.2,42)\n",
    "sample2 =rdd3.sample(False,0.2,42)\n",
    "union_of_sample1_sample2 = sample1.union(sample2)\n",
    "print len(sample1.collect()), len(sample2.collect()),len(union_of_sample1_sample2.collect())"
   ]
  },
  {
   "cell_type": "markdown",
   "metadata": {},
   "source": [
    "Note: the union operation didn’t remove the duplicate elements."
   ]
  },
  {
   "cell_type": "markdown",
   "metadata": {},
   "source": [
    "## Transformation: join\n",
    "\n",
    "Q 8: If we want to join the two pair RDDs based on their key.\n",
    "Solution: The “join” transformation can help us join two pairs of RDDs based on their key. To show that:\n",
    "\n",
    "First create the two sample (key,value) pair RDDs (“sample1”, “sample2”) from the “rdd3_mapped” same as I did for “union” transformation\n",
    " Apply a “join” transformation on “sample1”,  “sample2”.\n"
   ]
  },
  {
   "cell_type": "code",
   "execution_count": null,
   "metadata": {
    "collapsed": false
   },
   "outputs": [],
   "source": [
    "sample1 = rdd3_mapped.sample(False,.2,42)\n",
    "sample2 = rdd3_mapped.sample(False,.2,42)\n",
    "join_on_sample1_sample2 = sample1.join(sample2)\n",
    "len(join_on_sample1_sample2.collect())"
   ]
  },
  {
   "cell_type": "markdown",
   "metadata": {},
   "source": [
    "## Transformation: distinct\n",
    "\n",
    "Q 9: How to calculate distinct elements in a RDD ?\n",
    "Solution: We can apply “distinct” transformation on RDD to get the distinct elements. Let’s see how many distinct words do we have in the “rdd3”."
   ]
  },
  {
   "cell_type": "code",
   "execution_count": null,
   "metadata": {
    "collapsed": false
   },
   "outputs": [],
   "source": [
    "rdd3_distinct = rdd3.distinct()\n",
    "len(rdd3_distinct.collect())"
   ]
  },
  {
   "cell_type": "markdown",
   "metadata": {},
   "source": [
    "Some additional examples: "
   ]
  },
  {
   "cell_type": "code",
   "execution_count": null,
   "metadata": {
    "collapsed": false
   },
   "outputs": [],
   "source": [
    "#from pyspark import SparkContext\n",
    "logFile = \"./README.md\"  \n",
    "#sc = SparkContext(\"local\", \"first app\")\n",
    "logData = sc.textFile(logFile).cache()\n",
    "numAs = logData.filter(lambda s: 'a' in s).count()\n",
    "numBs = logData.filter(lambda s: 'b' in s).count()\n",
    "print \"Lines with a: %i, lines with b: %i\" % (numAs, numBs)"
   ]
  },
  {
   "cell_type": "markdown",
   "metadata": {},
   "source": [
    "Can you explain what this function does exactly?"
   ]
  },
  {
   "cell_type": "code",
   "execution_count": null,
   "metadata": {
    "collapsed": false
   },
   "outputs": [],
   "source": [
    "NUM_SAMPLES = 10**6\n",
    "import random\n",
    "def inside(p):\n",
    "    x, y = random.random(), random.random()\n",
    "    return x*x + y*y < 1\n",
    "\n",
    "count = sc.parallelize(xrange(0, NUM_SAMPLES)) \\\n",
    "             .filter(inside).count()\n",
    "print \"Pi is roughly %f\" % (4.0 * count / NUM_SAMPLES)"
   ]
  },
  {
   "cell_type": "markdown",
   "metadata": {},
   "source": [
    "Can you explain what this function does exactly?"
   ]
  }
 ],
 "metadata": {
  "kernelspec": {
   "display_name": "Python 2",
   "language": "python",
   "name": "python2"
  },
  "language_info": {
   "codemirror_mode": {
    "name": "ipython",
    "version": 2
   },
   "file_extension": ".py",
   "mimetype": "text/x-python",
   "name": "python",
   "nbconvert_exporter": "python",
   "pygments_lexer": "ipython2",
   "version": "2.7.16"
  }
 },
 "nbformat": 4,
 "nbformat_minor": 2
}
