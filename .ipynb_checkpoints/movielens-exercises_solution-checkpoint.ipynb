{
 "cells": [
  {
   "cell_type": "markdown",
   "metadata": {},
   "source": [
    "# Movie Recommendation with Spark MLlib\n",
    "\n",
    "In this notebook, we will use Spark MLlib to build a recommender system from MovieLens datasets.\n",
    "\n",
    "MovieLens is a project by GroupLens, a research laboratory at University of Minnesota, to provide a movies recommender application and use the collected data to improve algorithms. On https://movielens.org/, anyone can try the app for free and get movies recommandations. To help many people develop the best recommandation algorithms, MovieLens also released several datasets on http://grouplens.org/datasets/movielens/. We will use those datasets in this notebook.\n",
    "\n",
    "We will work with the two latest datasets available on MovieLens. The smallest one will help us build our application as fast as possible but you can use the biggest one whenever you want if you'd like to experience Spark power with a bigger dataset. Please keep in mind that we'll be using a free low capacity Spark cluster. Spark's scalability lets you run the same exact code on a much bigger cluster if you wish.\n",
    "\n",
    "The files to be uploaded from the MovieLens latest small dataset are:\n",
    "- movies.csv\n",
    "- ratings.csv\n",
    "Additional files may be uploaded depending on exercises, such as :\n",
    "- moviesBig.csv\n",
    "- ratingsBig.csv\n",
    "\n",
    "The small dataset is around 100k ratings. The biggest one is around 22M ratings."
   ]
  },
  {
   "cell_type": "markdown",
   "metadata": {},
   "source": [
    "## 0. Bluemix, Jupyter & Markdown\n",
    "\n",
    "First, here are some links with useful information to help you answer the following exercices.\n",
    "\n",
    "This is a Databricks notebook environment where you can interactively develop Spark programs: https://docs.databricks.com/user-guide/notebooks/index.html\n",
    "\n",
    "Markdown is a simple markup language to structure text: https://github.com/adam-p/markdown-here/wiki/Markdown-Cheatsheet\n",
    "\n",
    "Additional useful resources include:\n",
    "- Spark Python API documentation: http://spark.apache.org/docs/latest/api/python/\n",
    "    - SparkContext: https://spark.apache.org/docs/latest/api/python/pyspark.html#pyspark.SparkContext\n",
    "    - RDD: https://spark.apache.org/docs/latest/api/python/pyspark.html#pyspark.RDD\n",
    "    - sqlContext: https://spark.apache.org/docs/latest/api/python/pyspark.sql.html#pyspark.sql.SQLContext\n",
    "    - DataFrame: https://spark.apache.org/docs/latest/api/python/pyspark.sql.html#pyspark.sql.DataFrame"
   ]
  },
  {
   "cell_type": "markdown",
   "metadata": {
    "collapsed": true
   },
   "source": [
    "## 1. MovieLens datasets: load & access\n",
    "\n",
    "Spark lets you explore data of any structure from a lot of different data sources and data formats.\n",
    "\n",
    "To load the data, upload them in the data section on the left pane.\n",
    "**Please only upload the smallest dataset.**\n",
    "\n",
    "You should get the paths to access the data from Spark."
   ]
  },
  {
   "cell_type": "code",
   "execution_count": 6,
   "metadata": {
    "collapsed": false
   },
   "outputs": [
    {
     "name": "stdout",
     "output_type": "stream",
     "text": [
      "\n"
     ]
    }
   ],
   "source": [
    "movies_path = \"/home/alex/python_programming/utt_formation/utt_formation_spark/PRO2/ml-latest-small/movies.csv\"\n",
    "ratings_path = \"/home/alex/python_programming/utt_formation/utt_formation_spark/PRO2/ml-latest-small/ratings.csv\""
   ]
  },
  {
   "cell_type": "code",
   "execution_count": 2,
   "metadata": {
    "collapsed": true
   },
   "outputs": [],
   "source": [
    "from pyspark import SparkContext\n",
    "sc = SparkContext(\"local\", \"App Name\")#, pyFiles=['MyFile.py', 'lib.zip', 'app.egg'])\n"
   ]
  },
  {
   "cell_type": "code",
   "execution_count": 3,
   "metadata": {
    "collapsed": false
   },
   "outputs": [],
   "source": [
    "movies_path = \"/FileStore/tables/1a6s039m1508136002922/movies.csv\"\n",
    "ratings_path = \"/FileStore/tables/1a6s039m1508136002922/ratings.csv\"\n",
    "# moviesBig_path = \"/FileStore/tables/6lb85s4g1508136827033/movies.csv\"\n",
    "# ratingsBig_path = \"/FileStore/tables/6lb85s4g1508136827033/ratings.csv\""
   ]
  },
  {
   "cell_type": "markdown",
   "metadata": {},
   "source": [
    "Then, execute the following cell to be sure the data access is working fine.\n",
    "\n",
    "Notice that we are specifying an action - **first()** - to test the data access. Just using the **textFile()** method won't be sufficient because **textFile()** is a transformation so Spark only builds his DAG. Execution only takes place when an action is given, such as **first()**."
   ]
  },
  {
   "cell_type": "code",
   "execution_count": 7,
   "metadata": {
    "collapsed": false
   },
   "outputs": [
    {
     "name": "stdout",
     "output_type": "stream",
     "text": [
      "First record in the movies.csv dataset: movieId,title,genres\n"
     ]
    }
   ],
   "source": [
    "print \"First record in the movies.csv dataset:\", sc.textFile(movies_path).first()"
   ]
  },
  {
   "cell_type": "markdown",
   "metadata": {},
   "source": [
    "In this notebook, we will be using data stored as text files in the Databricks File System. The structure is CSV (comma separated values) and is well-documented (see links below) but we'll be assuming that we don't even know the structure.\n",
    "\n",
    "- Small dataset documentation: http://files.grouplens.org/datasets/movielens/ml-latest-small-README.html\n",
    "- Big dataset documentation: http://files.grouplens.org/datasets/movielens/ml-latest-README.html\n",
    "\n",
    "We will use two files from this MovieLens dataset: *ratings.csv* and *movies.csv*. All ratings are contained in the file *ratings.csv* and are in the following format:\n",
    "```\n",
    "userId,movieId,rating,timestamp\n",
    "```\n",
    "Movies information are in the file *movies.csv* and are in the following format:\n",
    "```\n",
    "movieId,title,genres\n",
    "```"
   ]
  },
  {
   "cell_type": "markdown",
   "metadata": {},
   "source": [
    "Now that you are able to access the data, let's explore Spark functionalities.\n",
    "\n",
    "As you probably know any Spark session needs a SparkContext to submit jobs to an executors cluster. On this managed environment you were provided a free trial Spark cluster and a SparkContext is already available as **sc**.\n",
    "\n",
    "Refer to the Spark Python API documentation at http://spark.apache.org/docs/latest/api/python/pyspark.html#pyspark.SparkContext to learn what method you can call on SparkContext object.\n",
    "\n",
    "Below are some examples to get the Spark version running on your environment or the default parallelism."
   ]
  },
  {
   "cell_type": "code",
   "execution_count": 8,
   "metadata": {
    "collapsed": false,
    "scrolled": true
   },
   "outputs": [
    {
     "data": {
      "text/plain": [
       "u'2.3.2'"
      ]
     },
     "execution_count": 8,
     "metadata": {},
     "output_type": "execute_result"
    }
   ],
   "source": [
    "sc.version"
   ]
  },
  {
   "cell_type": "code",
   "execution_count": 9,
   "metadata": {
    "collapsed": false
   },
   "outputs": [
    {
     "data": {
      "text/plain": [
       "1"
      ]
     },
     "execution_count": 9,
     "metadata": {},
     "output_type": "execute_result"
    }
   ],
   "source": [
    "sc.defaultParallelism"
   ]
  },
  {
   "cell_type": "markdown",
   "metadata": {},
   "source": [
    "Notice that this environment is running Spark 2.2.0 and the current default parallelism level is set to 8 which means at least eight partitions will be created for any new RDD. This is a good practice to configure the default parallelism to at least four times the number of executors to accomodate variance between the workloads.\n",
    "\n",
    "To create RDDs on the datasets, we use the method **.textFile()** which load the data from our Databricks File System. The second parameter let us specify the minimum number of partitions we want and the **.cache()** function has been added to be sure the dataset will be loaded and retained in memory as soon as we execute an action on it (remember Spark is lazy evaluation). Since we will be using those datasets a lot, it may be a good thing to load them in memory to improve performance."
   ]
  },
  {
   "cell_type": "code",
   "execution_count": 10,
   "metadata": {
    "collapsed": false
   },
   "outputs": [],
   "source": [
    "movies = sc.textFile(movies_path, 10).cache()\n",
    "ratings = sc.textFile(ratings_path, 10).cache()\n",
    "# moviesBig = sc.textFile(moviesBig_path, 100).cache()\n",
    "# ratingsBig = sc.textFile(ratingsBig_path, 100).cache()"
   ]
  },
  {
   "cell_type": "markdown",
   "metadata": {},
   "source": [
    "It was fast but remember that nothing happened yet. Spark just began to build an execution plan but is waiting you to provide an action before executing anything. The RDDs are however ready to analyze."
   ]
  },
  {
   "cell_type": "markdown",
   "metadata": {},
   "source": [
    "## 2. Spark basics\n",
    "Let's discover Spark through simple commands first. Let say we know nothing about the dataset we just loaded. Those data could be unstructured, semi-structured or structured and contain any data format. Spark does not really care, the **textFile()** method let you load those files in RDDs and each line of those files is now an element of the RDDs.\n",
    "\n",
    "From this chapter, you will find some exercices. The places where you have to put code are marked with **#TODO: explanation**.\n",
    "\n",
    "First thing you want to know is what is in your dataset, how many elements do you have, what is the structure, the attributes types, etc."
   ]
  },
  {
   "cell_type": "code",
   "execution_count": 11,
   "metadata": {
    "collapsed": false
   },
   "outputs": [
    {
     "name": "stdout",
     "output_type": "stream",
     "text": [
      "movieId,title,genres\n"
     ]
    }
   ],
   "source": [
    "print movies.first()"
   ]
  },
  {
   "cell_type": "markdown",
   "metadata": {},
   "source": [
    "The *movies* RDD seems to be in CSV format and it is good to know there is an header.\n",
    "\n",
    "But to understand the data types, you probably want to get more lines. Use the Spark Python API documentation to find out how to retrieve 10 lines from both datasets *ratings* and *movies*.\n",
    "\n",
    "Notice that you probably don't want to retrieve **all lines**. In distributed computation, the dataset could be huge and it's probably a bad thing to retrieve all the data from executors on hundreds of machine to the driver on one single machine."
   ]
  },
  {
   "cell_type": "code",
   "execution_count": 12,
   "metadata": {
    "collapsed": false
   },
   "outputs": [
    {
     "name": "stdout",
     "output_type": "stream",
     "text": [
      "--------\n",
      "Ratings:\n",
      "--------\n",
      "userId,movieId,rating,timestamp\n",
      "1,1,4.0,964982703\n",
      "1,3,4.0,964981247\n",
      "1,6,4.0,964982224\n",
      "1,47,5.0,964983815\n",
      "1,50,5.0,964982931\n",
      "1,70,3.0,964982400\n",
      "1,101,5.0,964980868\n",
      "1,110,4.0,964982176\n",
      "1,151,5.0,964984041\n",
      "\n",
      "--------\n",
      "Movies:\n",
      "--------\n",
      "movieId,title,genres\n",
      "1,Toy Story (1995),Adventure|Animation|Children|Comedy|Fantasy\n",
      "2,Jumanji (1995),Adventure|Children|Fantasy\n",
      "3,Grumpier Old Men (1995),Comedy|Romance\n",
      "4,Waiting to Exhale (1995),Comedy|Drama|Romance\n",
      "5,Father of the Bride Part II (1995),Comedy\n",
      "6,Heat (1995),Action|Crime|Thriller\n",
      "7,Sabrina (1995),Comedy|Romance\n",
      "8,Tom and Huck (1995),Adventure|Children\n",
      "9,Sudden Death (1995),Action\n"
     ]
    }
   ],
   "source": [
    "# Exercice 1: get 10 elements from every dataset\n",
    "rats = ratings.take(10) # TODO: get 10 elements\n",
    "print \"--------\\nRatings:\\n--------\"\n",
    "for r in rats:\n",
    "    print r\n",
    "movs = movies.take(10) # TODO: get 10 elements\n",
    "print \"\\n--------\\nMovies:\\n--------\"\n",
    "for m in movs:\n",
    "    print m"
   ]
  },
  {
   "cell_type": "markdown",
   "metadata": {},
   "source": [
    "We notice that ratings elements are strings with comma separated values. The values are integers or floats.\n",
    "\n",
    "About movies, elements are strings with comma separated values. The values are strings, possibly with pipe separated values (for categories)."
   ]
  },
  {
   "cell_type": "code",
   "execution_count": 13,
   "metadata": {
    "collapsed": false
   },
   "outputs": [
    {
     "name": "stdout",
     "output_type": "stream",
     "text": [
      "RDD '/home/alex/python_programming/utt_formation/utt_formation_spark/PRO2/ml-latest-small/movies.csv MapPartitionsRDD[8] at textFile at NativeMethodAccessorImpl.java:0' has 9743 elements.\n",
      "RDD '/home/alex/python_programming/utt_formation/utt_formation_spark/PRO2/ml-latest-small/ratings.csv MapPartitionsRDD[10] at textFile at NativeMethodAccessorImpl.java:0' has 100837 elements.\n"
     ]
    }
   ],
   "source": [
    "# Exercice 2: print the number of elements in every dataset\n",
    "for rdd in movies, ratings:\n",
    "# for rdd in moviesBig, ratingsBig:\n",
    "    c = rdd.count() #TODO: number of elements in rdd\n",
    "    print \"RDD '{}' has {} elements.\".format(rdd, c)"
   ]
  },
  {
   "cell_type": "markdown",
   "metadata": {},
   "source": [
    "The biggest dataset has 22M+ elements. If we experience computing delays, we may prefer work on the smaller dataset.\n",
    "\n",
    "While you are working in Spark with data from an input file, you usually start with this kind of RDDs of *lines* from your input file. But this input file probably has a structure or some specific elements that you want to extract from it in order to give your Spark RDD a structure. For example, this CSV file has four attributes: userId, movieId, rating and timestamp. Spark's RDD does not understand the data structure but you can give one to your data by splitting the lines on the comma separator.\n",
    "\n",
    "You'll learn later that another Spark data structure, named Spark's DataFrames, understand the data structure and is thus associated with a schema.\n",
    "\n",
    "But for now, prepare the RDDs by extracting the different fields and removing the header row and the timestamp field. You can also cast the fields in integer and float. Start with the small dataset, check the final RDD with **first()** or **take()** and once it's ok, we will duplicate your work on the bigger dataset. The **map()** method is the RDD's method that you are looking for if you wish to apply a function to any element of an RDD and get another RDD in return."
   ]
  },
  {
   "cell_type": "code",
   "execution_count": 14,
   "metadata": {
    "collapsed": false
   },
   "outputs": [
    {
     "name": "stdout",
     "output_type": "stream",
     "text": [
      "movies2 has  9742  elements while movies has  9743\n",
      "ratings2 has  100836  elements while ratings has  100837\n"
     ]
    }
   ],
   "source": [
    "# Exercice 3: prepare the RDDs\n",
    "\n",
    "# Step 1: remove the header row\n",
    "\n",
    "header_movies = movies.first()\n",
    "movies2 = movies.filter(lambda line: line != header_movies)\n",
    "#TODO: Remove the header row from movies\n",
    "# Check that the new RDD has a row less\n",
    "print \"movies2 has \", movies2.count(), \" elements while movies has \", movies.count()\n",
    "\n",
    "header_ratings = ratings.first()\n",
    "ratings2 = ratings.filter(lambda line: line != header_ratings)\n",
    "#ratings2 = ratings #TODO: Remove the header row from ratings\n",
    "# Check that the new RDD has a row less\n",
    "print \"ratings2 has \", ratings2.count(), \" elements while ratings has \", ratings.count()"
   ]
  },
  {
   "cell_type": "code",
   "execution_count": 15,
   "metadata": {
    "collapsed": false
   },
   "outputs": [
    {
     "data": {
      "text/plain": [
       "[u'1,1,4.0,964982703',\n",
       " u'1,3,4.0,964981247',\n",
       " u'1,6,4.0,964982224',\n",
       " u'1,47,5.0,964983815',\n",
       " u'1,50,5.0,964982931',\n",
       " u'1,70,3.0,964982400',\n",
       " u'1,101,5.0,964980868',\n",
       " u'1,110,4.0,964982176',\n",
       " u'1,151,5.0,964984041',\n",
       " u'1,157,5.0,964984100']"
      ]
     },
     "execution_count": 15,
     "metadata": {},
     "output_type": "execute_result"
    }
   ],
   "source": [
    "ratings2.take(10)"
   ]
  },
  {
   "cell_type": "code",
   "execution_count": 16,
   "metadata": {
    "collapsed": false
   },
   "outputs": [
    {
     "name": "stdout",
     "output_type": "stream",
     "text": [
      "[u'1', u'Toy Story (1995)', u'Adventure|Animation|Children|Comedy|Fantasy']\n",
      "[u'1', u'1', u'4.0', u'964982703']\n"
     ]
    }
   ],
   "source": [
    "# Step 2: split the lines\n",
    "movies3 = movies2.map(lambda line: line.split(',')) #TODO: Split the lines to get an RDD of arrays of strings\n",
    "# Check an element of the new RDD\n",
    "print movies3.first()\n",
    "ratings3 = ratings2.map(lambda line: line.split(',')) #TODO: Split the lines to get an RDD of arrays of strings\n",
    "# Check an element of the new RDD\n",
    "print ratings3.first()"
   ]
  },
  {
   "cell_type": "code",
   "execution_count": 17,
   "metadata": {
    "collapsed": false
   },
   "outputs": [
    {
     "name": "stdout",
     "output_type": "stream",
     "text": [
      "(u'1', u'Toy Story (1995)', u'Adventure|Animation|Children|Comedy|Fantasy')\n",
      "(u'1', u'1', u'4.0')\n"
     ]
    }
   ],
   "source": [
    "# Step 3: take the fields you need (ie. remove the timestamp from ratings) and cast them as the appropriate data type\n",
    "movies4 = movies3.map(lambda x: (x[0], x[1], x[2])) #TODO: Cast the fields to get an RDD of tuples (int, str, str)\n",
    "# Check an element of the new RDD\n",
    "print movies4.first()\n",
    "ratings4 = ratings3.map(lambda x: (x[0], x[1], x[2])) #TODO: Cast the required fields to get an RDD of tuples (int, int, float)\n",
    "# Check an element of the new RDD\n",
    "print ratings4.first()"
   ]
  },
  {
   "cell_type": "markdown",
   "metadata": {},
   "source": [
    "We had a *ratings* RDD of strings representing lines in our input file.\n",
    "\n",
    "We now have a *ratings4* RDD of (integer, integer, float)."
   ]
  },
  {
   "cell_type": "code",
   "execution_count": 18,
   "metadata": {
    "collapsed": false
   },
   "outputs": [
    {
     "name": "stdout",
     "output_type": "stream",
     "text": [
      "(u'1', u'Toy Story (1995)', u'Adventure|Animation|Children|Comedy|Fantasy')\n",
      "(u'1', u'1', u'4.0')\n"
     ]
    }
   ],
   "source": [
    "# Step 4: apply all those operations at once to the dataset, you can make a line break in your code by putting an antislash (\\) before it\n",
    "header_movies = movies.first()\n",
    "movies4 = movies.filter(lambda line: line != header_movies).map(lambda line: line.split(',')).map(lambda x: (x[0], x[1], x[2])) #TODO: apply all the above operations at once\n",
    "# Check an element of the new RDD\n",
    "print movies4.first()\n",
    "\n",
    "header_ratings = ratings.first()\n",
    "ratings4 = ratings.filter(lambda line: line != header_ratings).map(lambda line: line.split(',')).map(lambda x: (x[0], x[1], x[2])) #TODO: apply all the above operations at once\n",
    "# Check an element of the new RDD\n",
    "print ratings4.first()\n",
    "\n",
    "# If the biggest dataset is available in your environment, you may want to apply those operations to this dataset also. You can cache it for better performances.\n",
    "# moviesBig.cache()\n",
    "# ratingsBig.cache()"
   ]
  },
  {
   "cell_type": "markdown",
   "metadata": {},
   "source": [
    "Even with 22M+ records, the computation with Spark is super fast as long as the dataset can fit in memory and has been cached. This dataset is \"only\" 600MB. Imagine the possibilities with a cluster of ten 128GB RAM nodes for instance.\n",
    "\n",
    "With those RDDs, it will be easier to answer the two following exercices. In fact, it would be even easier if you were familiar with SQL (Standard Query Language) by the abstraction of DataFrames. Let's do it later."
   ]
  },
  {
   "cell_type": "code",
   "execution_count": 19,
   "metadata": {
    "collapsed": false
   },
   "outputs": [
    {
     "name": "stdout",
     "output_type": "stream",
     "text": [
      "Number of different users: 610\n",
      "Number of different movies that have been rated: 9724\n"
     ]
    }
   ],
   "source": [
    "# Exercice 4: how many different users is there in the dataset and how many movies have been rated?\n",
    "#print ratings4.take(10)\n",
    "print \"Number of different users:\", ratings4.map(lambda x : (x[0], 1)).reduceByKey(lambda  a, b : a + b).count() #TODO\n",
    "print \"Number of different movies that have been rated:\", ratings4.map(lambda x : (x[1], 1)).reduceByKey(lambda  a, b : a + b).count() #TODO"
   ]
  },
  {
   "cell_type": "code",
   "execution_count": 20,
   "metadata": {
    "collapsed": false
   },
   "outputs": [
    {
     "name": "stdout",
     "output_type": "stream",
     "text": [
      "(610,)\n",
      "(9724,)\n"
     ]
    }
   ],
   "source": [
    "# petit test \n",
    "import pandas as pd\n",
    "df = pd.read_csv(ratings_path)\n",
    "print df.userId.unique().shape\n",
    "print df.movieId.unique().shape"
   ]
  },
  {
   "cell_type": "code",
   "execution_count": 21,
   "metadata": {
    "collapsed": false
   },
   "outputs": [
    {
     "name": "stdout",
     "output_type": "stream",
     "text": [
      "Rating max:  5.0\n",
      "Rating min:  0.5\n"
     ]
    }
   ],
   "source": [
    "# Exercice 5: what are the maximum rating and the minimum rating that appear in the big dataset?\n",
    "print \"Rating max: \", ratings4.map(lambda x : x[2]).reduce(max) #TODO\n",
    "print \"Rating min: \", ratings4.map(lambda x : x[2]).reduce(min) #TODO"
   ]
  },
  {
   "cell_type": "code",
   "execution_count": 22,
   "metadata": {
    "collapsed": false
   },
   "outputs": [
    {
     "name": "stdout",
     "output_type": "stream",
     "text": [
      "0.5 :  1370\n",
      "1.0 :  2811\n",
      "1.5 :  1791\n",
      "2.0 :  7551\n",
      "2.5 :  5550\n",
      "3.0 :  20047\n",
      "3.5 :  13136\n",
      "4.0 :  26818\n",
      "4.5 :  8551\n",
      "5.0 :  13211\n"
     ]
    }
   ],
   "source": [
    "# Exercice 6: give the full distribution of the ratings, ie. number of occurences of each rating, you can help yourself with the WordCount example\n",
    "distribution = ratings4.map(lambda x : (x[2], 1)).reduceByKey(lambda  a, b : a + b) #TODO\n",
    "# Check the results. You can collect() because you know that the resulting dataset is small\n",
    "for tuples in distribution.sortByKey().collect():\n",
    "    print tuples[0], \": \", tuples[1]"
   ]
  },
  {
   "cell_type": "markdown",
   "metadata": {},
   "source": [
    "In the previous code, it is important to understand where the code executes. You should take advantage of your Spark's cluster power whenever possible and only manipulates small datasets on the driver single machine.\n",
    "\n",
    "Notice the distribution of the ratings is not uniform. We can represent it with a Matplotlib."
   ]
  },
  {
   "cell_type": "code",
   "execution_count": 23,
   "metadata": {
    "collapsed": false
   },
   "outputs": [
    {
     "data": {
      "text/plain": [
       "PythonRDD[54] at RDD at PythonRDD.scala:52"
      ]
     },
     "execution_count": 23,
     "metadata": {},
     "output_type": "execute_result"
    }
   ],
   "source": [
    "distribution"
   ]
  },
  {
   "cell_type": "code",
   "execution_count": 24,
   "metadata": {
    "collapsed": false
   },
   "outputs": [
    {
     "data": {
      "image/png": "[encoded data removed]",
      "text/plain": [
       "<Figure size 1152x864 with 1 Axes>"
      ]
     },
     "metadata": {},
     "output_type": "display_data"
    }
   ],
   "source": [
    "%matplotlib inline\n",
    "import pandas\n",
    "distribution_pandas = pandas.DataFrame(distribution.sortByKey().collect(), columns=[\"rating\", \"freq\"])\n",
    "\n",
    "import matplotlib as mpl\n",
    "import matplotlib.pyplot as plt\n",
    "import numpy as np\n",
    "fig, ax = plt.subplots(nrows=1, ncols=1, figsize=(16,12));\n",
    "distribution_pandas['freq'].plot(kind=\"bar\")\n",
    "ax.set_xticklabels(distribution_pandas['rating']);\n",
    "\n",
    "#display(fig)"
   ]
  },
  {
   "cell_type": "markdown",
   "metadata": {},
   "source": [
    "Seems users more often rate movies that they like than the one that they don't..."
   ]
  },
  {
   "cell_type": "markdown",
   "metadata": {},
   "source": [
    "## 3. Collaborative filtering\n",
    "Collaborative filtering is commonly used for recommender systems. These techniques aim to fill in the missing entries of a user-item association matrix, in our case, the user-movie rating matrix. MLlib currently supports model-based collaborative filtering, in which users and products are described by a small set of latent factors that can be used to predict missing entries. In particular, we implement the alternating least squares (ALS) algorithm to learn these latent factors.\n",
    "\n",
    "What you want to estimate in our example is the rating a user would put to a movie he has not yet watched. If you are precise enough on that estimation, you just have to recommend to users the movies you have estimate he would have rated 4 or more if he had watched them.\n",
    "\n",
    "*ALS* is a supervised algorithm which means you need data that already contains the target you want to estimate, ie. the rating. You have this dataset, but it is usually a good thing to split this dataset in two. One, the training set, will be used to train the model. The other one, the test set will be used to evaluate your model performance by applying the model on the blind data (the data without the solution) and comparing the computed solution to the actual solution.\n",
    "\n",
    "So let's split the *ratings4* RDD between the training set and the test set with respectively about 80%/20% of the original dataset. The ratings should be split approximately randomly."
   ]
  },
  {
   "cell_type": "code",
   "execution_count": 25,
   "metadata": {
    "collapsed": false,
    "scrolled": true
   },
   "outputs": [
    {
     "name": "stdout",
     "output_type": "stream",
     "text": [
      "Number of ratings in the training dataset:  70572\n",
      "Number of ratings in the test dataset:  30264\n"
     ]
    }
   ],
   "source": [
    "# Exercice 7: split the big dataset between a training set and a test set\n",
    "test, training = ratings4.randomSplit(weights=[0.3, 0.7], seed=1)\n",
    "#training = ratings4 #TODO\n",
    "#test = ratings4 #TODO\n",
    "# Check the number of ratings in each RDD\n",
    "print \"Number of ratings in the training dataset: \", training.count()\n",
    "print \"Number of ratings in the test dataset: \", test.count()"
   ]
  },
  {
   "cell_type": "markdown",
   "metadata": {},
   "source": [
    "We will use MLlib’s *ALS* (Alternating Least Squares) to train a *MatrixFactorizationModel*, which takes a RDD[(user, product, rating)]. ALS has training parameters such as rank for matrix factors and regularization constants. To determine a good combination of the training parameters, we should randomly split the initial dataset between a training and a test datasets, train the model on the training set, evaluate it on the test set and iterate with different parameters. Let's just first try with some \"random\" parameters and compute the score with the RMSE (Root Mean Squared Error) for instance."
   ]
  },
  {
   "cell_type": "markdown",
   "metadata": {},
   "source": [
    "Among the training parameters of ALS, the most important ones are rank, lambda (regularization constant), and number of iterations. The train method of ALS we are going to use is defined as the following:\n",
    "```python\n",
    "class ALS(object):\n",
    "\n",
    "    def train(cls, ratings, rank, iterations=5, lambda_=0.01, blocks=-1):\n",
    "        # ...\n",
    "        return MatrixFactorizationModel(sc, mod)\n",
    "```\n",
    "Ideally, we want to try a large number of combinations of parameters in order to find the best one but we won't for now. So let's train the model.\n",
    "\n",
    "You can additional documentation at: http://spark.apache.org/docs/1.4.1/mllib-collaborative-filtering.html"
   ]
  },
  {
   "cell_type": "code",
   "execution_count": 26,
   "metadata": {
    "collapsed": false,
    "scrolled": true
   },
   "outputs": [],
   "source": [
    "from pyspark.mllib.recommendation import ALS\n",
    "\n",
    "model = ALS.train(training, 2, 5, 0.01)"
   ]
  },
  {
   "cell_type": "markdown",
   "metadata": {},
   "source": [
    "This kind of algorithm may take some time on a huge dataset...\n",
    "\n",
    "Once the model is trained, we can apply it to the test set from which we remove the actual ratings (blind estimation). Then we join the predictions with the actual ratings and compute the difference."
   ]
  },
  {
   "cell_type": "code",
   "execution_count": 27,
   "metadata": {
    "collapsed": false
   },
   "outputs": [
    {
     "name": "stdout",
     "output_type": "stream",
     "text": [
      "((50, 96610), 2.5455266175440983)\n",
      "((1, 47), 5.0)\n"
     ]
    }
   ],
   "source": [
    "predictions = model.predictAll(test.map(lambda x: (x[0], x[1])))\n",
    "predictions1 = predictions.map(lambda x: ((x[0], x[1]), x[2]))\n",
    "print predictions1.first()\n",
    "print test.map(lambda x: ((int(x[0]), int(x[1])), float(x[2]))).first() # error is due to int, int float, and not string"
   ]
  },
  {
   "cell_type": "code",
   "execution_count": 28,
   "metadata": {
    "collapsed": false
   },
   "outputs": [
    {
     "name": "stdout",
     "output_type": "stream",
     "text": [
      "An example of prediction:  Rating(user=50, product=96610, rating=2.5455266175440983)\n",
      "An example of predictions and ratings:  ((582, 260), (4.388176307596865, 4.0))\n",
      "RMSE =  0.929286672512\n"
     ]
    }
   ],
   "source": [
    "predictions = model.predictAll(test.map(lambda x: (x[0], x[1])))\n",
    "print \"An example of prediction: \", predictions.first()\n",
    "predictionsAndRatings = predictions.map(lambda x: ((x[0], x[1]), x[2])).join(test.map(lambda x: ((int(x[0]), int(x[1])), float(x[2])))).cache()\n",
    "#print test.map(lambda x: ((x[0], x[1]), x[2])).first()\n",
    "print \"An example of predictions and ratings: \", predictionsAndRatings.first()\n",
    "\n",
    "from operator import add\n",
    "from math import sqrt\n",
    "n = test.count()\n",
    "testRMSE = sqrt(predictionsAndRatings.values().map(lambda x: (x[0] - x[1]) ** 2).reduce(add) / float(n))\n",
    "print \"RMSE = \", testRMSE"
   ]
  },
  {
   "cell_type": "markdown",
   "metadata": {},
   "source": [
    "We can also use the **recommendProducts(user, nb)** method to recommand *nb* products (ie. movies) to a specific user."
   ]
  },
  {
   "cell_type": "code",
   "execution_count": 29,
   "metadata": {
    "collapsed": false
   },
   "outputs": [
    {
     "data": {
      "text/plain": [
       "[Rating(user=10, product=1497, rating=6.54478514975176),\n",
       " Rating(user=10, product=72129, rating=6.189047661637062),\n",
       " Rating(user=10, product=947, rating=6.173753729501939),\n",
       " Rating(user=10, product=5867, rating=5.819157128735839),\n",
       " Rating(user=10, product=128520, rating=5.6135501576731315)]"
      ]
     },
     "execution_count": 29,
     "metadata": {},
     "output_type": "execute_result"
    }
   ],
   "source": [
    "model.recommendProducts(10,5)\n"
   ]
  },
  {
   "cell_type": "markdown",
   "metadata": {},
   "source": [
    "##4. To continue your journey with Spark\n",
    "### Comparing to a naive baseline\n",
    "Does ALS output a non-trivial model? We can compare the evaluation result with a naive baseline model that only outputs the average rating (or you may try one that outputs the average rating per movie). Computing the baseline’s RMSE is straightforward:"
   ]
  },
  {
   "cell_type": "code",
   "execution_count": 30,
   "metadata": {
    "collapsed": false,
    "scrolled": true
   },
   "outputs": [
    {
     "name": "stdout",
     "output_type": "stream",
     "text": [
      "3.50108399932\n",
      "The baseline RMSE is  1.03999314743 , we improved it by  10.6449234967 %\n"
     ]
    }
   ],
   "source": [
    "meanRating = training.map(lambda x: float(x[2])).reduce(add)/training.count()\n",
    "print meanRating\n",
    "\n",
    "baselineRMSE = sqrt(test.map(lambda x: (meanRating - float(x[2])) ** 2).reduce(add) / n)\n",
    "improvement = (baselineRMSE - testRMSE) / baselineRMSE * 100\n",
    "print \"The baseline RMSE is \", baselineRMSE, \", we improved it by \", improvement, \"%\""
   ]
  },
  {
   "cell_type": "markdown",
   "metadata": {},
   "source": [
    "### Automatic cross validation and parameters selection\n",
    "To improve the performance of our model, we could:\n",
    "- correct the ratings above 5 or under 0.5\n",
    "- round to the nearest .5 or not\n",
    "- select better parameters through automatic cross validation"
   ]
  },
  {
   "cell_type": "markdown",
   "metadata": {},
   "source": [
    "### Confusion Matrix\n",
    "It would be a good thing to build a confusion matrix to understand where our model is good and where it is bad, ie. a matrix 10x10 where the lines are the ratings, the columns are the predictions and each cell gives the number of predictions we made in each class (ie. 0.5, 1.0, 1.5, etc.) for each real rating. Thus, the matrix diagonal should ideally contain all the values. This matrix could also be plot as a heatmap through Matplotlib."
   ]
  },
  {
   "cell_type": "markdown",
   "metadata": {},
   "source": [
    "### DataFrames (SparkSQL)\n",
    "\n",
    "Try to do exercices 4, 5, 6 through SQL thanks to Spark DataFrames. You'll have to define a schema and to use the **toDF()** method."
   ]
  },
  {
   "cell_type": "markdown",
   "metadata": {
    "collapsed": false
   },
   "source": [
    "More information can be found here: \n",
    "https://spark.apache.org/docs/1.6.1/sql-programming-guide.html#starting-point-sqlcontext\n"
   ]
  },
  {
   "cell_type": "code",
   "execution_count": 31,
   "metadata": {
    "collapsed": false
   },
   "outputs": [
    {
     "ename": "ValueError",
     "evalue": "Cannot run multiple SparkContexts at once; existing SparkContext(app=App Name, master=local) created by __init__ at <ipython-input-2-8e0d9d4454cb>:2 ",
     "output_type": "error",
     "traceback": [
      "\u001b[0;31m---------------------------------------------------------------------------\u001b[0m",
      "\u001b[0;31mValueError\u001b[0m                                Traceback (most recent call last)",
      "\u001b[0;32m<ipython-input-31-518acaae9acb>\u001b[0m in \u001b[0;36m<module>\u001b[0;34m()\u001b[0m\n\u001b[1;32m      1\u001b[0m \u001b[0;32mfrom\u001b[0m \u001b[0mpyspark\u001b[0m \u001b[0;32mimport\u001b[0m \u001b[0mSparkContext\u001b[0m\u001b[0;34m\u001b[0m\u001b[0m\n\u001b[0;32m----> 2\u001b[0;31m \u001b[0msc\u001b[0m \u001b[0;34m=\u001b[0m \u001b[0mSparkContext\u001b[0m\u001b[0;34m(\u001b[0m\u001b[0;34m)\u001b[0m\u001b[0;34m\u001b[0m\u001b[0m\n\u001b[0m",
      "\u001b[0;32m/home/alex/anaconda2/lib/python2.7/site-packages/pyspark/context.pyc\u001b[0m in \u001b[0;36m__init__\u001b[0;34m(self, master, appName, sparkHome, pyFiles, environment, batchSize, serializer, conf, gateway, jsc, profiler_cls)\u001b[0m\n\u001b[1;32m    113\u001b[0m         \"\"\"\n\u001b[1;32m    114\u001b[0m         \u001b[0mself\u001b[0m\u001b[0;34m.\u001b[0m\u001b[0m_callsite\u001b[0m \u001b[0;34m=\u001b[0m \u001b[0mfirst_spark_call\u001b[0m\u001b[0;34m(\u001b[0m\u001b[0;34m)\u001b[0m \u001b[0;32mor\u001b[0m \u001b[0mCallSite\u001b[0m\u001b[0;34m(\u001b[0m\u001b[0mNone\u001b[0m\u001b[0;34m,\u001b[0m \u001b[0mNone\u001b[0m\u001b[0;34m,\u001b[0m \u001b[0mNone\u001b[0m\u001b[0;34m)\u001b[0m\u001b[0;34m\u001b[0m\u001b[0m\n\u001b[0;32m--> 115\u001b[0;31m         \u001b[0mSparkContext\u001b[0m\u001b[0;34m.\u001b[0m\u001b[0m_ensure_initialized\u001b[0m\u001b[0;34m(\u001b[0m\u001b[0mself\u001b[0m\u001b[0;34m,\u001b[0m \u001b[0mgateway\u001b[0m\u001b[0;34m=\u001b[0m\u001b[0mgateway\u001b[0m\u001b[0;34m,\u001b[0m \u001b[0mconf\u001b[0m\u001b[0;34m=\u001b[0m\u001b[0mconf\u001b[0m\u001b[0;34m)\u001b[0m\u001b[0;34m\u001b[0m\u001b[0m\n\u001b[0m\u001b[1;32m    116\u001b[0m         \u001b[0;32mtry\u001b[0m\u001b[0;34m:\u001b[0m\u001b[0;34m\u001b[0m\u001b[0m\n\u001b[1;32m    117\u001b[0m             self._do_init(master, appName, sparkHome, pyFiles, environment, batchSize, serializer,\n",
      "\u001b[0;32m/home/alex/anaconda2/lib/python2.7/site-packages/pyspark/context.pyc\u001b[0m in \u001b[0;36m_ensure_initialized\u001b[0;34m(cls, instance, gateway, conf)\u001b[0m\n\u001b[1;32m    314\u001b[0m                         \u001b[0;34m\" created by %s at %s:%s \"\u001b[0m\u001b[0;34m\u001b[0m\u001b[0m\n\u001b[1;32m    315\u001b[0m                         % (currentAppName, currentMaster,\n\u001b[0;32m--> 316\u001b[0;31m                             callsite.function, callsite.file, callsite.linenum))\n\u001b[0m\u001b[1;32m    317\u001b[0m                 \u001b[0;32melse\u001b[0m\u001b[0;34m:\u001b[0m\u001b[0;34m\u001b[0m\u001b[0m\n\u001b[1;32m    318\u001b[0m                     \u001b[0mSparkContext\u001b[0m\u001b[0;34m.\u001b[0m\u001b[0m_active_spark_context\u001b[0m \u001b[0;34m=\u001b[0m \u001b[0minstance\u001b[0m\u001b[0;34m\u001b[0m\u001b[0m\n",
      "\u001b[0;31mValueError\u001b[0m: Cannot run multiple SparkContexts at once; existing SparkContext(app=App Name, master=local) created by __init__ at <ipython-input-2-8e0d9d4454cb>:2 "
     ]
    }
   ],
   "source": [
    "from pyspark import SparkContext\n",
    "sc = SparkContext()"
   ]
  },
  {
   "cell_type": "code",
   "execution_count": 32,
   "metadata": {
    "collapsed": false
   },
   "outputs": [],
   "source": [
    "from pyspark import SQLContext\n",
    "sqlContext = SQLContext(sc)\n"
   ]
  },
  {
   "cell_type": "code",
   "execution_count": 33,
   "metadata": {
    "collapsed": false
   },
   "outputs": [],
   "source": [
    "movies = sc.textFile(movies_path)"
   ]
  },
  {
   "cell_type": "code",
   "execution_count": 34,
   "metadata": {
    "collapsed": true
   },
   "outputs": [],
   "source": [
    "header_movies = movies.first()\n",
    "movies3 = movies.filter(lambda line: line != header_movies).map(lambda line: line.split(',')).map(lambda x: (x[0], x[1], x[2])) #TODO: apply all the above operations at once\n"
   ]
  },
  {
   "cell_type": "code",
   "execution_count": 35,
   "metadata": {
    "collapsed": false
   },
   "outputs": [],
   "source": [
    "movies_sql = sqlContext.createDataFrame(movies3)"
   ]
  },
  {
   "cell_type": "code",
   "execution_count": 36,
   "metadata": {
    "collapsed": false
   },
   "outputs": [
    {
     "name": "stdout",
     "output_type": "stream",
     "text": [
      "+---+--------------------+--------------------+\n",
      "| _1|                  _2|                  _3|\n",
      "+---+--------------------+--------------------+\n",
      "|  1|    Toy Story (1995)|Adventure|Animati...|\n",
      "|  2|      Jumanji (1995)|Adventure|Childre...|\n",
      "|  3|Grumpier Old Men ...|      Comedy|Romance|\n",
      "|  4|Waiting to Exhale...|Comedy|Drama|Romance|\n",
      "|  5|Father of the Bri...|              Comedy|\n",
      "|  6|         Heat (1995)|Action|Crime|Thri...|\n",
      "|  7|      Sabrina (1995)|      Comedy|Romance|\n",
      "|  8| Tom and Huck (1995)|  Adventure|Children|\n",
      "|  9| Sudden Death (1995)|              Action|\n",
      "| 10|    GoldenEye (1995)|Action|Adventure|...|\n",
      "| 11| \"American President|         The (1995)\"|\n",
      "| 12|Dracula: Dead and...|       Comedy|Horror|\n",
      "| 13|        Balto (1995)|Adventure|Animati...|\n",
      "| 14|        Nixon (1995)|               Drama|\n",
      "| 15|Cutthroat Island ...|Action|Adventure|...|\n",
      "| 16|       Casino (1995)|         Crime|Drama|\n",
      "| 17|Sense and Sensibi...|       Drama|Romance|\n",
      "| 18|   Four Rooms (1995)|              Comedy|\n",
      "| 19|Ace Ventura: When...|              Comedy|\n",
      "| 20|  Money Train (1995)|Action|Comedy|Cri...|\n",
      "+---+--------------------+--------------------+\n",
      "only showing top 20 rows\n",
      "\n"
     ]
    }
   ],
   "source": [
    "movies_sql.show()"
   ]
  },
  {
   "cell_type": "code",
   "execution_count": 37,
   "metadata": {
    "collapsed": false
   },
   "outputs": [],
   "source": [
    "movies_sql = movies_sql.selectExpr(\"_1 as movieId\", \"_2 as title\", \"_3 as genre\")"
   ]
  },
  {
   "cell_type": "code",
   "execution_count": 38,
   "metadata": {
    "collapsed": false
   },
   "outputs": [
    {
     "name": "stdout",
     "output_type": "stream",
     "text": [
      "+-------+--------------------+--------------------+\n",
      "|movieId|               title|               genre|\n",
      "+-------+--------------------+--------------------+\n",
      "|      1|    Toy Story (1995)|Adventure|Animati...|\n",
      "|      2|      Jumanji (1995)|Adventure|Childre...|\n",
      "|      3|Grumpier Old Men ...|      Comedy|Romance|\n",
      "|      4|Waiting to Exhale...|Comedy|Drama|Romance|\n",
      "|      5|Father of the Bri...|              Comedy|\n",
      "|      6|         Heat (1995)|Action|Crime|Thri...|\n",
      "|      7|      Sabrina (1995)|      Comedy|Romance|\n",
      "|      8| Tom and Huck (1995)|  Adventure|Children|\n",
      "|      9| Sudden Death (1995)|              Action|\n",
      "|     10|    GoldenEye (1995)|Action|Adventure|...|\n",
      "|     11| \"American President|         The (1995)\"|\n",
      "|     12|Dracula: Dead and...|       Comedy|Horror|\n",
      "|     13|        Balto (1995)|Adventure|Animati...|\n",
      "|     14|        Nixon (1995)|               Drama|\n",
      "|     15|Cutthroat Island ...|Action|Adventure|...|\n",
      "|     16|       Casino (1995)|         Crime|Drama|\n",
      "|     17|Sense and Sensibi...|       Drama|Romance|\n",
      "|     18|   Four Rooms (1995)|              Comedy|\n",
      "|     19|Ace Ventura: When...|              Comedy|\n",
      "|     20|  Money Train (1995)|Action|Comedy|Cri...|\n",
      "+-------+--------------------+--------------------+\n",
      "only showing top 20 rows\n",
      "\n"
     ]
    }
   ],
   "source": [
    "movies_sql.show()"
   ]
  },
  {
   "cell_type": "code",
   "execution_count": 39,
   "metadata": {
    "collapsed": false
   },
   "outputs": [
    {
     "data": {
      "text/plain": [
       "9742"
      ]
     },
     "execution_count": 39,
     "metadata": {},
     "output_type": "execute_result"
    }
   ],
   "source": [
    "movies_sql.select('movieId').count()"
   ]
  },
  {
   "cell_type": "code",
   "execution_count": 40,
   "metadata": {
    "collapsed": false
   },
   "outputs": [],
   "source": [
    "#test = sqlContext.read.load(path = ratings_path, header = True,inferSchema = True)\n",
    "ratings_sql = sqlContext.read.format(\"com.databricks.spark.csv\").option(\"header\", \"true\").load(ratings_path)\n"
   ]
  },
  {
   "cell_type": "code",
   "execution_count": 41,
   "metadata": {
    "collapsed": false
   },
   "outputs": [
    {
     "name": "stdout",
     "output_type": "stream",
     "text": [
      "+------+-------+------+---------+\n",
      "|userId|movieId|rating|timestamp|\n",
      "+------+-------+------+---------+\n",
      "|     1|      1|   4.0|964982703|\n",
      "|     1|      3|   4.0|964981247|\n",
      "|     1|      6|   4.0|964982224|\n",
      "|     1|     47|   5.0|964983815|\n",
      "|     1|     50|   5.0|964982931|\n",
      "|     1|     70|   3.0|964982400|\n",
      "|     1|    101|   5.0|964980868|\n",
      "|     1|    110|   4.0|964982176|\n",
      "|     1|    151|   5.0|964984041|\n",
      "|     1|    157|   5.0|964984100|\n",
      "|     1|    163|   5.0|964983650|\n",
      "|     1|    216|   5.0|964981208|\n",
      "|     1|    223|   3.0|964980985|\n",
      "|     1|    231|   5.0|964981179|\n",
      "|     1|    235|   4.0|964980908|\n",
      "|     1|    260|   5.0|964981680|\n",
      "|     1|    296|   3.0|964982967|\n",
      "|     1|    316|   3.0|964982310|\n",
      "|     1|    333|   5.0|964981179|\n",
      "|     1|    349|   4.0|964982563|\n",
      "+------+-------+------+---------+\n",
      "only showing top 20 rows\n",
      "\n"
     ]
    }
   ],
   "source": [
    "ratings_sql.show()"
   ]
  },
  {
   "cell_type": "code",
   "execution_count": 42,
   "metadata": {
    "collapsed": false
   },
   "outputs": [
    {
     "data": {
      "text/plain": [
       "100836"
      ]
     },
     "execution_count": 42,
     "metadata": {},
     "output_type": "execute_result"
    }
   ],
   "source": [
    "ratings_sql.count()"
   ]
  },
  {
   "cell_type": "markdown",
   "metadata": {},
   "source": [
    "Question 4: different number of movie ids? "
   ]
  },
  {
   "cell_type": "code",
   "execution_count": 43,
   "metadata": {
    "collapsed": false
   },
   "outputs": [
    {
     "name": "stdout",
     "output_type": "stream",
     "text": [
      "5 9724\n"
     ]
    }
   ],
   "source": [
    "print ratings_sql.describe('userId').distinct().count(), ratings_sql.select('movieId').distinct().count()"
   ]
  },
  {
   "cell_type": "markdown",
   "metadata": {},
   "source": [
    "Question 5: maximum, mininum of rating?\n",
    "http://spark.apache.org/docs/2.1.0/api/python/pyspark.sql.html"
   ]
  },
  {
   "cell_type": "code",
   "execution_count": 44,
   "metadata": {
    "collapsed": false
   },
   "outputs": [
    {
     "name": "stdout",
     "output_type": "stream",
     "text": [
      "+-------+------------------+\n",
      "|summary|            rating|\n",
      "+-------+------------------+\n",
      "|  count|            100836|\n",
      "|   mean| 3.501556983616962|\n",
      "| stddev|1.0425292390606342|\n",
      "|    min|               0.5|\n",
      "|    max|               5.0|\n",
      "+-------+------------------+\n",
      "\n",
      "None\n"
     ]
    }
   ],
   "source": [
    "print ratings_sql.describe(['rating']).show()"
   ]
  },
  {
   "cell_type": "code",
   "execution_count": 45,
   "metadata": {
    "collapsed": false
   },
   "outputs": [
    {
     "name": "stdout",
     "output_type": "stream",
     "text": [
      "+------+-----+--------------------+\n",
      "|rating|count|            freq_new|\n",
      "+------+-----+--------------------+\n",
      "|   1.0| 2811|0.027876948708794477|\n",
      "|   4.5| 8551|  0.0848010631123805|\n",
      "|   2.5| 5550| 0.05503986671426871|\n",
      "|   3.5|13136| 0.13027093498353762|\n",
      "|   5.0|13211| 0.13101471696616288|\n",
      "|   0.5| 1370|0.013586417549287952|\n",
      "|   4.0|26818|  0.2659566028005871|\n",
      "|   1.5| 1791| 0.01776151374509104|\n",
      "|   2.0| 7551| 0.07488397001071045|\n",
      "|   3.0|20047| 0.19880796540917925|\n",
      "+------+-----+--------------------+\n",
      "\n"
     ]
    }
   ],
   "source": [
    "freq =  ratings_sql.groupBy(\"rating\").count()\n",
    "total_counts = ratings_sql.count()\n",
    "freq.withColumn('freq_new', freq['count']/total_counts).show()"
   ]
  }
 ],
 "metadata": {
  "kernelspec": {
   "display_name": "Python 2",
   "language": "python",
   "name": "python2"
  },
  "language_info": {
   "codemirror_mode": {
    "name": "ipython",
    "version": 2
   },
   "file_extension": ".py",
   "mimetype": "text/x-python",
   "name": "python",
   "nbconvert_exporter": "python",
   "pygments_lexer": "ipython2",
   "version": "2.7.16"
  },
  "name": "exercices",
  "notebookId": 815315517711799
 },
 "nbformat": 4,
 "nbformat_minor": 0
}
